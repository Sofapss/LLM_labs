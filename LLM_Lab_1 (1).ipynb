{
  "cells": [
    {
      "cell_type": "markdown",
      "metadata": {
        "id": "73JHBwym-IfY"
      },
      "source": [
        "## Week 6 : Large Language Models\n",
        "```\n",
        "- Generative Artificial Intelligence (Fall semester 2023)\n",
        "- Professor: Muhammad Fahim\n",
        "- Teaching Assistant: Ahmad Taha\n",
        "```\n",
        "<hr>\n",
        "\n",
        "## Contents\n",
        "```\n",
        "1. Transformers (Implementing a transformer)\n",
        "2. Self-Attention\n",
        "3. Multi-headed attention\n",
        "4. Positional Encoding\n",
        "\n",
        "```\n",
        "\n",
        "<hr>\n"
      ]
    },
    {
      "cell_type": "markdown",
      "metadata": {
        "id": "ivBBW705o6JG"
      },
      "source": [
        "# Transformers\n",
        "\n",
        "* [Attention Is All You Need](https://arxiv.org/pdf/1706.03762.pdf) -- Original paper on attention\n",
        "\n",
        "![](http://jalammar.github.io/images/t/The_transformer_encoder_decoder_stack.png)\n"
      ]
    },
    {
      "cell_type": "code",
      "execution_count": 1,
      "metadata": {
        "colab": {
          "base_uri": "https://localhost:8080/"
        },
        "id": "PkzgoQHBzCsS",
        "outputId": "b4bd2c6a-f9b3-4e9e-ac22-9550166baf92"
      },
      "outputs": [
        {
          "output_type": "execute_result",
          "data": {
            "text/plain": [
              "device(type='cuda')"
            ]
          },
          "metadata": {},
          "execution_count": 1
        }
      ],
      "source": [
        "import torch\n",
        "from torch import nn\n",
        "import torch.optim as optim\n",
        "import pandas as pd\n",
        "import numpy as np\n",
        "\n",
        "from torch.utils.data import DataLoader, TensorDataset\n",
        "\n",
        "device = torch.device('cuda' if torch.cuda.is_available() else 'cpu')\n",
        "device"
      ]
    },
    {
      "cell_type": "markdown",
      "metadata": {
        "id": "gqbWEqEG04nj"
      },
      "source": [
        "### Transformer Encoder with Pytorch"
      ]
    },
    {
      "cell_type": "code",
      "execution_count": 2,
      "metadata": {
        "id": "bqvnRd4zASjV",
        "colab": {
          "base_uri": "https://localhost:8080/"
        },
        "outputId": "2cfabc29-d890-4923-bcf2-add03a926aec"
      },
      "outputs": [
        {
          "output_type": "stream",
          "name": "stderr",
          "text": [
            "/usr/local/lib/python3.10/dist-packages/torch/nn/modules/transformer.py:306: UserWarning: enable_nested_tensor is True, but self.use_nested_tensor is False because encoder_layer.self_attn.batch_first was not True(use batch_first for better inference performance)\n",
            "  warnings.warn(f\"enable_nested_tensor is True, but self.use_nested_tensor is False because {why_not_sparsity_fast_path}\")\n"
          ]
        }
      ],
      "source": [
        "encoder_layer = nn.TransformerEncoderLayer(d_model=512, nhead=32)\n",
        "transformer_encoder = nn.TransformerEncoder(encoder_layer, num_layers=3)"
      ]
    },
    {
      "cell_type": "code",
      "execution_count": 3,
      "metadata": {
        "colab": {
          "base_uri": "https://localhost:8080/"
        },
        "id": "mmaOP-5BAiVG",
        "outputId": "57101565-82f6-4548-beb6-080dcb6845c9"
      },
      "outputs": [
        {
          "output_type": "execute_result",
          "data": {
            "text/plain": [
              "TransformerEncoderLayer(\n",
              "  (self_attn): MultiheadAttention(\n",
              "    (out_proj): NonDynamicallyQuantizableLinear(in_features=512, out_features=512, bias=True)\n",
              "  )\n",
              "  (linear1): Linear(in_features=512, out_features=2048, bias=True)\n",
              "  (dropout): Dropout(p=0.1, inplace=False)\n",
              "  (linear2): Linear(in_features=2048, out_features=512, bias=True)\n",
              "  (norm1): LayerNorm((512,), eps=1e-05, elementwise_affine=True)\n",
              "  (norm2): LayerNorm((512,), eps=1e-05, elementwise_affine=True)\n",
              "  (dropout1): Dropout(p=0.1, inplace=False)\n",
              "  (dropout2): Dropout(p=0.1, inplace=False)\n",
              ")"
            ]
          },
          "metadata": {},
          "execution_count": 3
        }
      ],
      "source": [
        "encoder_layer"
      ]
    },
    {
      "cell_type": "markdown",
      "metadata": {
        "id": "ETf4hBGZBmB6"
      },
      "source": [
        "## Encoder\n",
        "\n",
        "The encoder contains a self-attention layer – a layer that helps the encoder look at other words in the input sentence as it encodes a specific word. <br>\n",
        "**The main goal is to efficiently encode the data**\n",
        "\n",
        "![](http://jalammar.github.io/images/t/encoder_with_tensors.png)"
      ]
    },
    {
      "cell_type": "markdown",
      "metadata": {
        "id": "7MQv6sV8CHcb"
      },
      "source": [
        "## Self-Attention\n",
        "\n",
        "**Keep in mind : The main goal is to encode the data in a much more efficient way** In other words is to create meaningful embeddings<br>\n",
        "- As the model processes each word (each position in the input sequence), self attention allows it to look at other positions in the input sequence for clues that can help lead to a better encoding for this word.\n",
        "\n",
        "\n",
        "**How does Self-Attention work?**\n",
        "\n",
        "Steps:\n",
        "1. For each word, we create a **`Query`** vector, a **`Key`** vector, and a **`Value`** vector.\n",
        "  - What are the **`Query`** vector, a **`Key`** vector, and a **`Value`** vector? : They’re abstractions that are useful for calculating attention... They are a breakdown of the word embeddings\n",
        "2. Calculating self-attention score from **`Query`** **`Key`** vector.\n",
        "3. Divide the scores by 8 (This leads to having more stable gradients)\n",
        "4. Pass the result through a softmax operation (softmax score determines how much each word will be expressed at this position)\n",
        "5. Multiply each value vector by the softmax score\n",
        "6. Sum up the weighted value vectors"
      ]
    },
    {
      "cell_type": "markdown",
      "metadata": {
        "id": "2RevROKUGFOX"
      },
      "source": [
        "### Step 1\n",
        "\n",
        "For each word, we create a **`Query`** vector, a **`Key`** vector, and a **`Value`** vector.\n",
        "\n",
        "![](http://jalammar.github.io/images/t/transformer_self_attention_vectors.png)"
      ]
    },
    {
      "cell_type": "code",
      "execution_count": 4,
      "metadata": {
        "id": "YDahLOTBDVDP"
      },
      "outputs": [],
      "source": [
        "# simple sequence = I am here today\n",
        "simple_sequence_embedding = torch.rand((4, 512))\n",
        "\n",
        "# Create weight matrices\n",
        "Wq = torch.normal(0,0.5, (512, 7))\n",
        "Wk = torch.normal(0,0.1, (512, 7))\n",
        "Wv = torch.normal(0,0.2, (512, 7))\n",
        "\n",
        "# Create key, query and value for each word in the senetence\n",
        "queries = simple_sequence_embedding.mm(Wq) # self.q(embedding[0])\n",
        "keys = simple_sequence_embedding.mm(Wk)\n",
        "values = simple_sequence_embedding.mm(Wv)"
      ]
    },
    {
      "cell_type": "code",
      "execution_count": 5,
      "metadata": {
        "colab": {
          "base_uri": "https://localhost:8080/"
        },
        "id": "a2dceawSN2PQ",
        "outputId": "c5b27ae6-2658-46c4-f23c-6bfa2f590f11"
      },
      "outputs": [
        {
          "output_type": "execute_result",
          "data": {
            "text/plain": [
              "tensor([[-1.4144,  0.1425,  0.6360, -4.6266, -1.1239, -3.8719, -0.2917],\n",
              "        [-1.2888,  1.2161,  1.3884, -2.9614,  0.0145, -2.8608, -1.7486],\n",
              "        [-0.5685,  0.6050, -0.0479, -2.7829, -1.1900, -3.0137, -2.7247],\n",
              "        [-0.8240,  0.1764,  2.7191, -3.3767,  1.2477, -3.1469, -4.3871]])"
            ]
          },
          "metadata": {},
          "execution_count": 5
        }
      ],
      "source": [
        "values"
      ]
    },
    {
      "cell_type": "code",
      "execution_count": 6,
      "metadata": {
        "colab": {
          "base_uri": "https://localhost:8080/"
        },
        "id": "FhXQl2p8Nzp_",
        "outputId": "d11f4c74-6733-4888-e248-57125cd88a4a"
      },
      "outputs": [
        {
          "output_type": "execute_result",
          "data": {
            "text/plain": [
              "tensor([[0.6412, 0.0468, 0.1284,  ..., 0.0317, 0.7052, 0.3328],\n",
              "        [0.8832, 0.4157, 0.0492,  ..., 0.8416, 0.2928, 0.5546],\n",
              "        [0.2911, 0.0679, 0.8347,  ..., 0.6101, 0.8706, 0.3020],\n",
              "        [0.1589, 0.4290, 0.4915,  ..., 0.3169, 0.7444, 0.0272]])"
            ]
          },
          "metadata": {},
          "execution_count": 6
        }
      ],
      "source": [
        "simple_sequence_embedding"
      ]
    },
    {
      "cell_type": "markdown",
      "metadata": {
        "id": "gueARUu0KFVm"
      },
      "source": [
        "## Step 2\n",
        "\n",
        "Calculating self-attention score from **`Query`** and **`Key`** vector"
      ]
    },
    {
      "cell_type": "code",
      "execution_count": 7,
      "metadata": {
        "colab": {
          "base_uri": "https://localhost:8080/"
        },
        "id": "6TwUclKXLN14",
        "outputId": "defa86c4-e7b3-4543-b469-76d9d04f2ce3"
      },
      "outputs": [
        {
          "output_type": "execute_result",
          "data": {
            "text/plain": [
              "tensor([[ -7.0074,   4.3708,  17.8155,   0.3243],\n",
              "        [-11.0049,  -3.2940,   0.3478,   2.0981],\n",
              "        [  3.6775,  16.4631,  24.6573,  -9.4841],\n",
              "        [-13.9342,  14.0622,  17.1531,   3.4276]])"
            ]
          },
          "metadata": {},
          "execution_count": 7
        }
      ],
      "source": [
        "scores = torch.mm(queries, keys.T)\n",
        "scores"
      ]
    },
    {
      "cell_type": "markdown",
      "metadata": {
        "id": "FZugp0egQEPQ"
      },
      "source": [
        "## Step 3\n",
        "Divide the scores by 8 (This leads to having more stable gradients)"
      ]
    },
    {
      "cell_type": "code",
      "execution_count": 8,
      "metadata": {
        "colab": {
          "base_uri": "https://localhost:8080/"
        },
        "id": "gA1G9MmeQPuP",
        "outputId": "582d88ac-b961-486a-8d1b-60834bf80e30"
      },
      "outputs": [
        {
          "output_type": "execute_result",
          "data": {
            "text/plain": [
              "tensor([[-0.8759,  0.5463,  2.2269,  0.0405],\n",
              "        [-1.3756, -0.4117,  0.0435,  0.2623],\n",
              "        [ 0.4597,  2.0579,  3.0822, -1.1855],\n",
              "        [-1.7418,  1.7578,  2.1441,  0.4285]])"
            ]
          },
          "metadata": {},
          "execution_count": 8
        }
      ],
      "source": [
        "scores = scores / 8\n",
        "scores"
      ]
    },
    {
      "cell_type": "markdown",
      "metadata": {
        "id": "a-MZsAkWQWlp"
      },
      "source": [
        "## Step 4\n",
        "\n",
        "Pass the result through a softmax operation"
      ]
    },
    {
      "cell_type": "code",
      "execution_count": 9,
      "metadata": {
        "colab": {
          "base_uri": "https://localhost:8080/"
        },
        "id": "0_hpI-SNKqAA",
        "outputId": "e825661f-2420-49a3-b7b3-36d472e604fc"
      },
      "outputs": [
        {
          "output_type": "execute_result",
          "data": {
            "text/plain": [
              "tensor([[0.0334, 0.1386, 0.7443, 0.0836],\n",
              "        [0.0775, 0.2033, 0.3204, 0.3988],\n",
              "        [0.0502, 0.2484, 0.6917, 0.0097],\n",
              "        [0.0109, 0.3615, 0.5319, 0.0957]])"
            ]
          },
          "metadata": {},
          "execution_count": 9
        }
      ],
      "source": [
        "scores = torch.nn.functional.softmax(scores, dim=1)\n",
        "scores"
      ]
    },
    {
      "cell_type": "markdown",
      "metadata": {
        "id": "HskCcOiRQlam"
      },
      "source": [
        "## Step 5 & 6\n",
        "\n",
        "* Multiply each value vector by the softmax score\n",
        "* Sum up the weighted value vectors\n",
        "\n"
      ]
    },
    {
      "cell_type": "code",
      "execution_count": 10,
      "metadata": {
        "colab": {
          "base_uri": "https://localhost:8080/"
        },
        "id": "aT3lZwy4TLK1",
        "outputId": "8e6e346d-c5bd-4d7b-b582-c9c336fdac23"
      },
      "outputs": [
        {
          "output_type": "execute_result",
          "data": {
            "text/plain": [
              "(torch.Size([4, 4]), torch.Size([4, 7]))"
            ]
          },
          "metadata": {},
          "execution_count": 10
        }
      ],
      "source": [
        "scores.shape, values.shape"
      ]
    },
    {
      "cell_type": "code",
      "execution_count": 11,
      "metadata": {
        "colab": {
          "base_uri": "https://localhost:8080/"
        },
        "id": "wDsYOfEnHWVq",
        "outputId": "fa1164eb-c0bc-4254-b982-1e0869f4c1de"
      },
      "outputs": [
        {
          "output_type": "execute_result",
          "data": {
            "text/plain": [
              "tensor([[-0.7180,  0.6384,  0.4055, -2.9190, -0.8170, -3.0323, -2.6470],\n",
              "        [-0.8824,  0.5224,  1.4005, -3.1989,  0.0321, -3.1023, -3.0006],\n",
              "        [-0.7923,  0.7294,  0.3700, -2.9256, -0.8639, -3.0201, -2.3762],\n",
              "        [-0.8625,  0.7799,  0.7435, -2.9244, -0.5207, -2.9805, -2.5043]])"
            ]
          },
          "metadata": {},
          "execution_count": 11
        }
      ],
      "source": [
        "z = scores @ values\n",
        "z"
      ]
    },
    {
      "cell_type": "markdown",
      "metadata": {
        "id": "tbCd2yNhzGv5"
      },
      "source": [
        "# Multi-headed attention\n",
        "\n",
        "**GOAL**:\n",
        "1. Expand the model’s ability to focus on different positions\n",
        "2. Provide the attention layer multiple “representation subspaces”\n",
        "\n",
        "**Attention with $N$ just means repeating self attention algorithm $N$ times and joining the results**\n",
        "\n",
        "\n",
        "![](https://data-science-blog.com/wp-content/uploads/2022/01/mha_img_original.png)\n",
        "\n",
        "**Multi-headed attention steps:**\n",
        "1. Same as self-attention calculation, just n different times with different weight matrices\n",
        "2. Condense the $N$ z metrices down into a single matrix by concatinating the matrices then multiply them by an additional weights matrix `WO`\n",
        "\n",
        "Now the output z metrix is fed to the FFNN"
      ]
    },
    {
      "cell_type": "code",
      "execution_count": 12,
      "metadata": {
        "id": "99lM0p2IUd2k"
      },
      "outputs": [],
      "source": [
        "from torch import Tensor\n",
        "import torch.nn.functional as f\n",
        "\n",
        "\n",
        "def scaled_dot_product_attention(query, key, value):\n",
        "  temp = query.bmm(key.transpose(1, 2))\n",
        "  scale = query.size(-1) ** 0.5\n",
        "  softmax = f.softmax(temp / scale, dim=-1)\n",
        "  return softmax.bmm(value)"
      ]
    },
    {
      "cell_type": "markdown",
      "metadata": {
        "id": "Sph09F-Qdlw1"
      },
      "source": [
        "## Now lets make attention head"
      ]
    },
    {
      "cell_type": "code",
      "execution_count": 13,
      "metadata": {
        "id": "MfKQevaDdrQu"
      },
      "outputs": [],
      "source": [
        "import torch.nn as nn\n",
        "\n",
        "class AttentionHead(nn.Module):\n",
        "    def __init__(self, dim_in, dim_q, dim_k):\n",
        "        super().__init__()\n",
        "        # Fill in the missing parts of the constructor to initialize the query, key, and value linear transformations\n",
        "        # dim_in is the input dimension, dim_q and dim_k are the output dimensions for the queries and keys/values respectively\n",
        "        # Example: dim_in 512, dim_q = dim_k 64 in the paper\n",
        "        self.q = nn.Linear(dim_in, dim_q)\n",
        "        self.k = nn.Linear(dim_in, dim_k)\n",
        "        self.v = nn.Linear(dim_in, dim_k)\n",
        "\n",
        "    def forward(self, query, key, value):\n",
        "        # Implement the forward pass by calling scaled_dot_product_attention function\n",
        "        # You need to transform the query, key, and value using the linear transformations defined in __init__\n",
        "        # Fill in with the correct method calls\n",
        "        return scaled_dot_product_attention(self.q(query), self.k(key), self.v(value))\n"
      ]
    },
    {
      "cell_type": "markdown",
      "metadata": {
        "id": "ig3CKeuseEOs"
      },
      "source": [
        "## Multi Head Attention"
      ]
    },
    {
      "cell_type": "code",
      "execution_count": 14,
      "metadata": {
        "id": "L_kYFonCeD-y"
      },
      "outputs": [],
      "source": [
        "class MultiHeadToAttention(nn.Module):\n",
        "    def __init__(self, number_of_heads, dim_in, dim_q, dim_k):\n",
        "        super().__init__()\n",
        "        # Initialize heads as multi-AttentionHead instances\n",
        "        # Initialize linear to combine the outputs of all heads into a single output\n",
        "        self.heads = nn.ModuleList([AttentionHead(dim_in, dim_q, dim_k) for _ in range(number_of_heads)])\n",
        "        self.linear = nn.Linear(number_of_heads*dim_k, dim_in)\n",
        "\n",
        "    def forward(self, query: Tensor, key: Tensor, value: Tensor):\n",
        "        # Concatenate outputs from all heads and apply the final linear transformation\n",
        "        z = self.linear(torch.cat([h(query, key, value) for h in self.heads], dim=-1))\n",
        "        return z"
      ]
    },
    {
      "cell_type": "markdown",
      "metadata": {
        "id": "nk0KG1p0UeSV"
      },
      "source": [
        "## Positional Encoding\n",
        "\n",
        "A way to account for the order of the words in the input sequence. A transformer adds a vector to each input embedding which helps it determine the position of each word. <br>\n",
        "**Goal** : preserving information about the order of tokens  \n",
        "\n",
        "Positional Encoding they can either be learned or fixed a priori.\n",
        "\n",
        "Proposed approach from original paper : describe a simple scheme for fixed positional encodings based on sine and cosine functions\n",
        "\n",
        "![](https://miro.medium.com/v2/resize:fit:640/format:webp/1*C3a9RL6-SFC6fW8NGpJg5A.png)"
      ]
    },
    {
      "cell_type": "code",
      "execution_count": 15,
      "metadata": {
        "id": "q_AGKKflld67"
      },
      "outputs": [],
      "source": [
        "def position_encoding(seq_len, dim_model, device):\n",
        "    # Define the position tensor 'pos' with dimensions appropriate for sequence length\n",
        "    pos = torch.arange(seq_len, dtype=torch.float, device=device).reshape(1, -1, 1)\n",
        "\n",
        "    # Define the dimension tensor 'dim' suitable for the model dimensions\n",
        "    dim = torch.arange(dim_model, dtype=torch.float, device=device).reshape(1, 1, -1)\n",
        "\n",
        "    # Calculate the phase using the position and dimension tensors\n",
        "    phase = pos / (1e4 ** (dim / dim_model))\n",
        "\n",
        "\n",
        "    # Return the sinusoidal position encoding\n",
        "    # Complete this line to select sin or cos based on even/odd index\n",
        "    return torch.where(dim.long() % 2 == 0, torch.sin(phase), torch.cos(phase))\n"
      ]
    },
    {
      "cell_type": "markdown",
      "metadata": {
        "id": "zB6Z4v4dnlYk"
      },
      "source": [
        "## Encoder Feed Forward"
      ]
    },
    {
      "cell_type": "code",
      "execution_count": 16,
      "metadata": {
        "id": "19MLi_k0nuZr"
      },
      "outputs": [],
      "source": [
        "def feed_forward(dim_input = 512, dim_feedforward = 2048):\n",
        "  return nn.Sequential(nn.Linear(dim_input, dim_feedforward),\n",
        "                       nn.ReLU(),\n",
        "                       nn.Linear(dim_feedforward, dim_input)\n",
        "                       )"
      ]
    },
    {
      "cell_type": "markdown",
      "metadata": {
        "id": "ctJcODqZoNjm"
      },
      "source": [
        "## Encoder Residual\n",
        "\n",
        "From the original paper the author implementation"
      ]
    },
    {
      "cell_type": "code",
      "execution_count": 17,
      "metadata": {
        "id": "Z3jxUDJxoJrh"
      },
      "outputs": [],
      "source": [
        "class Residual(nn.Module):\n",
        "  def __init__(self, sublayer, dimension, dropout = 0.1):\n",
        "    super().__init__()\n",
        "    self.sublayer = sublayer\n",
        "    self.norm = nn.LayerNorm(dimension)\n",
        "    self.dropout = nn.Dropout(dropout)\n",
        "\n",
        "  def forward(self, *tensors):\n",
        "    return self.norm(tensors[0] + self.dropout(self.sublayer(*tensors)))"
      ]
    },
    {
      "cell_type": "markdown",
      "metadata": {
        "id": "rbO7zQf6Z6oC"
      },
      "source": [
        "## Putting all together on encoder side\n",
        "\n",
        "![](http://jalammar.github.io/images/t/transformer_resideual_layer_norm_2.png)"
      ]
    },
    {
      "cell_type": "markdown",
      "metadata": {
        "id": "N_IWAB7fpdnX"
      },
      "source": [
        "## Putting the Encoder layer together"
      ]
    },
    {
      "cell_type": "code",
      "execution_count": 18,
      "metadata": {
        "id": "6mclItDepir9"
      },
      "outputs": [],
      "source": [
        "class TransformerEncoderLayer(nn.Module):\n",
        "    def __init__(self, dim_model=512, num_heads=6, dim_feedforward=2048, dropout=0.1):\n",
        "        super().__init__()\n",
        "        # Define dimensions for query and key based on model dimension and number of heads\n",
        "        dim_q = dim_k = max(dim_model // num_heads, 1)\n",
        "\n",
        "        # Initialize the MultiHeadAttention component with a residual connection and dropout\n",
        "        self.attention = Residual(MultiHeadToAttention(num_heads, dim_model, dim_q, dim_k),\n",
        "                              dimension=dim_model, dropout=dropout)\n",
        "\n",
        "        # Initialize the feedforward component with a residual connection and dropout\n",
        "        self.feed_forward = Residual(feed_forward(dim_model, dim_feedforward), dimension=dim_model, dropout=dropout)\n",
        "\n",
        "\n",
        "    def forward(self, src):\n",
        "        # Apply the attention mechanism to the source data\n",
        "        src = self.attention(src, src, src)\n",
        "\n",
        "        # Apply the feedforward network to the output of the attention mechanism\n",
        "        return self.feed_forward(src)\n"
      ]
    },
    {
      "cell_type": "markdown",
      "metadata": {
        "id": "HfQ17Qy2pubd"
      },
      "source": [
        "## Putting together transfomer Encoder part"
      ]
    },
    {
      "cell_type": "code",
      "execution_count": 19,
      "metadata": {
        "id": "kwXf_WW-puz_"
      },
      "outputs": [],
      "source": [
        "class TransformerEncoder(nn.Module):\n",
        "    def __init__(self, num_layers=12, dim_model=512, num_heads=4, dim_feedforward=2048, dropout=0.1):\n",
        "        super().__init__()\n",
        "        # Initialize a list of TransformerEncoderLayer instances\n",
        "        self.layers = nn.ModuleList([TransformerEncoderLayer(dim_model, num_heads, dim_feedforward, dropout) for _ in range(num_layers) ])\n",
        "\n",
        "\n",
        "    def forward(self, src):\n",
        "        # Retrieve the sequence length and dimension from the source tensor\n",
        "        seq_len, dimension = src.size(1), src.size(2)\n",
        "\n",
        "        # Add position encoding to the source tensor\n",
        "        src += position_encoding(seq_len, dimension)\n",
        "\n",
        "        # Process each layer in the transformer encoder\n",
        "        for layer in self.layers:\n",
        "          src = layer(src)\n",
        "\n",
        "        return src"
      ]
    },
    {
      "cell_type": "markdown",
      "metadata": {
        "id": "T9iOQWX8aQn9"
      },
      "source": [
        "# The Decoder Side\n",
        "\n",
        "The encoder start by processing the input sequence. The output of the top encoder is then transformed into a set of attention vectors K and V. These are to be used by each decoder.\n",
        "\n",
        "\n",
        "![](https://jalammar.github.io/images/t/transformer_resideual_layer_norm_3.png)"
      ]
    },
    {
      "cell_type": "markdown",
      "metadata": {
        "id": "ehLixHKossPK"
      },
      "source": [
        "## Decoder layer\n",
        "\n",
        "The “Encoder-Decoder Attention” layer works just like multiheaded self-attention, except it creates its Queries matrix from the layer below it, and takes the Keys and Values matrix from the output of the encoder stack.\n",
        "\n",
        "**Task**: implement the decoder layer"
      ]
    },
    {
      "cell_type": "code",
      "source": [],
      "metadata": {
        "id": "DokpYHkAANHg"
      },
      "execution_count": 19,
      "outputs": []
    },
    {
      "cell_type": "code",
      "execution_count": 20,
      "metadata": {
        "id": "D8Kpvt0Gsxiq"
      },
      "outputs": [],
      "source": [
        "class TransformerDecoderLayer(nn.Module):\n",
        "    def __init__(\n",
        "        self,\n",
        "        dim_model: int = 512,\n",
        "        num_heads: int = 6,\n",
        "        dim_feedforward: int = 2048,\n",
        "        dropout: float = 0.1,\n",
        "    ):\n",
        "        super().__init__()\n",
        "        # init dim_q and dim_k as in the encoder\n",
        "        dim_q = dim_k = max(dim_model // num_heads, 1)\n",
        "\n",
        "        # Initialize the first self-attention layer with a residual connection\n",
        "        self.attention_1 = Residual(\n",
        "            MultiHeadToAttention(num_heads, dim_model, dim_q, dim_k),\n",
        "            dimension=dim_model, dropout=dropout\n",
        "        )\n",
        "\n",
        "        # Initialize the second attention layer for interaction with the encoder output\n",
        "        self.attention_2 = Residual(\n",
        "            MultiHeadToAttention(num_heads, dim_model, dim_q, dim_k),\n",
        "            dimension=dim_model, dropout=dropout\n",
        "        )\n",
        "\n",
        "        # Initialize the feed-forward network\n",
        "        self.feed_forward = Residual(\n",
        "            feed_forward(dim_model, dim_feedforward),\n",
        "            dimension=dim_model, dropout=dropout\n",
        "        )\n",
        "\n",
        "    def forward(self, tgt: Tensor, memory: Tensor) -> Tensor:\n",
        "        # Self-attention mechanism\n",
        "        tgt = self.attention_1(tgt, tgt, tgt)\n",
        "\n",
        "        # Cross-attention mechanism where the decoder attends to the encoder's output\n",
        "        tgt = self.attention_2(tgt, memory, memory)\n",
        "\n",
        "        # Pass through the feed-forward network\n",
        "        return self.feed_forward(tgt)"
      ]
    },
    {
      "cell_type": "markdown",
      "metadata": {
        "id": "6g8J94rHsusT"
      },
      "source": [
        "## Full Transfomer Decoder\n",
        "\n",
        "**Task**: implement the transfomer decoder part class"
      ]
    },
    {
      "cell_type": "code",
      "execution_count": 21,
      "metadata": {
        "id": "EnXSvVUUs4sy"
      },
      "outputs": [],
      "source": [
        "class TransformerDecoder(nn.Module):\n",
        "    def __init__(\n",
        "        self,\n",
        "        num_layers: int = 6,\n",
        "        dim_model: int = 512,\n",
        "        num_heads: int = 8,\n",
        "        dim_feedforward: int = 2048,\n",
        "        dropout: float = 0.1,\n",
        "    ):\n",
        "        super().__init__()\n",
        "        # Initialize laters from TransformerDecoderLayer instances\n",
        "        self.layers = nn.ModuleList([TransformerDecoderLayer(dim_model, num_heads, dim_feedforward, dropout) for _ in range(num_layers)])\n",
        "\n",
        "        # Define the output linear transformation\n",
        "        self.linear = nn.Linear(dim_model, dim_feedforward)\n",
        "\n",
        "    def forward(self, tgt: Tensor, memory: Tensor) -> Tensor:\n",
        "        # Calculate sequence length and dimension from the target tensor\n",
        "        seq_len, dimension = tgt.size(1), tgt.size(2)\n",
        "\n",
        "        # Add position encoding to the target tensor\n",
        "        tgt += position_encoding(seq_len, dimension, device=tgt.device)\n",
        "\n",
        "        # Process each layer in the transformer decoder\n",
        "        # Code here\n",
        "        for layer in self.layers:\n",
        "            tgt = layer(tgt, memory)\n",
        "\n",
        "        # Apply a softmax to the output of the final linear layer\n",
        "        return nn.softmax(self.linear(tgt))"
      ]
    },
    {
      "cell_type": "markdown",
      "metadata": {
        "id": "B-6Uav2htlEF"
      },
      "source": [
        "## Full Transfomer model\n",
        "\n",
        "**Task**:\n",
        "1. Assembly a full transfomer (Encoder + Decoder)\n",
        "2. Implement the Transfomer training loop\n",
        "3. Using dataset of your choice train the transformer just for one epoch\n"
      ]
    },
    {
      "cell_type": "code",
      "execution_count": 22,
      "metadata": {
        "id": "UzfY-uEmtppU"
      },
      "outputs": [],
      "source": [
        "class Transfomer(nn.Module):\n",
        "  def __init__(self, output_dim):\n",
        "    super().__init__()\n",
        "    self.transformer = transformers.AutoModel.from_pretrained('bert-base-uncased')\n",
        "    for param in self.transformer.parameters():\n",
        "        param.requires_grad = False\n",
        "\n",
        "    hidden_dim = self.transformer.config.hidden_size\n",
        "    self.fc = nn.Linear(hidden_dim, output_dim)\n",
        "\n",
        "\n",
        "  def forward(self, text):\n",
        "    # text = [batch size, seq len]\n",
        "    output = self.transformer(text, output_attentions=True)\n",
        "    hidden = output.last_hidden_state\n",
        "    # hidden = [batch size, seq len, hidden dim]\n",
        "    attention = output.attentions[-1]\n",
        "    # attention = [batch size, n heads, seq len, seq len]\n",
        "    cls_hidden = hidden[:, 0, :]\n",
        "    prediction = self.fc(torch.tanh(cls_hidden))\n",
        "\n",
        "    return prediction"
      ]
    },
    {
      "cell_type": "code",
      "source": [
        "import collections\n",
        "\n",
        "import matplotlib.pyplot as plt\n",
        "import numpy as np\n",
        "import torch\n",
        "import torch.nn as nn\n",
        "import torch.optim as optim\n",
        "import torchtext\n",
        "import tqdm\n",
        "\n",
        "import torch\n",
        "from torch.utils.data import Dataset, DataLoader\n",
        "\n",
        "import math\n",
        "import os\n",
        "from tempfile import TemporaryDirectory\n",
        "from typing import Tuple\n",
        "\n",
        "import torch\n",
        "from torch import nn, Tensor\n",
        "from torch.nn import TransformerEncoder, TransformerEncoderLayer\n",
        "from torch.utils.data import dataset\n",
        "\n",
        "import transformers\n",
        "\n",
        "from torchtext.vocab import build_vocab_from_iterator"
      ],
      "metadata": {
        "colab": {
          "base_uri": "https://localhost:8080/"
        },
        "id": "zWduMm1qCxVH",
        "outputId": "4ed81b0c-17e8-46b4-f206-8dfc953339ee"
      },
      "execution_count": 23,
      "outputs": [
        {
          "output_type": "stream",
          "name": "stderr",
          "text": [
            "/usr/local/lib/python3.10/dist-packages/torchtext/vocab/__init__.py:4: UserWarning: \n",
            "/!\\ IMPORTANT WARNING ABOUT TORCHTEXT STATUS /!\\ \n",
            "Torchtext is deprecated and the last released version will be 0.18 (this one). You can silence this warning by calling the following at the beginnign of your scripts: `import torchtext; torchtext.disable_torchtext_deprecation_warning()`\n",
            "  warnings.warn(torchtext._TORCHTEXT_DEPRECATION_MSG)\n",
            "/usr/local/lib/python3.10/dist-packages/torchtext/utils.py:4: UserWarning: \n",
            "/!\\ IMPORTANT WARNING ABOUT TORCHTEXT STATUS /!\\ \n",
            "Torchtext is deprecated and the last released version will be 0.18 (this one). You can silence this warning by calling the following at the beginnign of your scripts: `import torchtext; torchtext.disable_torchtext_deprecation_warning()`\n",
            "  warnings.warn(torchtext._TORCHTEXT_DEPRECATION_MSG)\n"
          ]
        }
      ]
    },
    {
      "cell_type": "code",
      "source": [],
      "metadata": {
        "id": "fLCUVPaKDVe_"
      },
      "execution_count": 23,
      "outputs": []
    },
    {
      "cell_type": "code",
      "source": [
        "# link for downloading train set 'https://www.dropbox.com/s/x9n6f9o9jl7pno8/train_pos.txt?dl=1'\n",
        "# link for downloading test set 'https://www.dropbox.com/s/v8nccvq7jewcl8s/test_pos.txt?dl=1'\n",
        "\n",
        "\n",
        "file_path_train = '/content/train_pos.txt'\n",
        "\n",
        "\n",
        "with open(file_path_train, 'r', encoding='utf-8') as file:\n",
        "    train_ = file.readlines()\n",
        "\n",
        "\n",
        "file_path_test = '/content/test_pos.txt'\n",
        "\n",
        "with open(file_path_test, 'r', encoding='utf-8') as file:\n",
        "    test_ = file.readlines()\n",
        "\n",
        "\n",
        "class POS_Dataset(Dataset):\n",
        "    def __init__(self, file):\n",
        "      self.sentences=[]\n",
        "      self.tags=[]\n",
        "      sentence=[]\n",
        "      tag=[]\n",
        "      for line in file:\n",
        "          if line.isspace(): #if we met ' '\n",
        "            self.sentences.append(sentence)\n",
        "            sentence=[]\n",
        "            self.tags.append(tag)\n",
        "            tag=[]\n",
        "        # Разделяем строку по пробелам и извлекаем слово и тег\n",
        "          else:\n",
        "              word, tag_ = line.split()\n",
        "              sentence.append(word)\n",
        "              tag.append(tag_)\n",
        "\n",
        "    def __len__(self):\n",
        "        return len(self.sentences)\n",
        "\n",
        "    def __getitem__(self, index):\n",
        "        return self.sentences[index], self.tags[index]\n",
        "\n",
        "train_dataset = POS_Dataset(train_)\n",
        "test_dataset = POS_Dataset(test_)\n",
        "\n",
        "min_freq = 5\n",
        "special_tokens = [\"<unk>\", \"<pad>\"]\n",
        "\n",
        "def get_tokens(dataset):\n",
        "    for index in range(len(dataset)):\n",
        "        yield dataset[index][0]\n",
        "\n",
        "vocab = torchtext.vocab.build_vocab_from_iterator(\n",
        "    get_tokens(train_dataset),\n",
        "    min_freq=min_freq,\n",
        "    specials=special_tokens,\n",
        ")\n",
        "\n",
        "unk_index = vocab[\"<unk>\"]\n",
        "pad_index = vocab[\"<pad>\"]\n",
        "vocab.set_default_index(unk_index)\n",
        "\n",
        "\n",
        "special_tokens = [\"<pad>\"]\n",
        "\n",
        "def get_tags(dataset):\n",
        "    for index in range(len(dataset)):\n",
        "        yield dataset[index][1]\n",
        "\n",
        "tag_vocab = torchtext.vocab.build_vocab_from_iterator(\n",
        "    get_tags(train_dataset),\n",
        "    min_freq=min_freq,\n",
        "    specials=special_tokens,\n",
        ")\n",
        "\n",
        "tag_pad_index = tag_vocab[\"<pad>\"]\n",
        "\n",
        "\n",
        "\n",
        "def encode_sample(example, vocab, tag_vocab):\n",
        "    ids = vocab.lookup_indices(example[0])\n",
        "    tag_ids = tag_vocab.lookup_indices(example[1])\n",
        "    return ids, tag_ids\n",
        "\n",
        "\n",
        "class POS_Dataset_Encoded(Dataset):\n",
        "    def __init__(self, pos_dataset, vocab, tag_vocab, padded_len=78):\n",
        "        self.sentences = []\n",
        "        self.tags = []\n",
        "        for index in range(len(pos_dataset)):\n",
        "            sample = pos_dataset[index]\n",
        "            ids, tag_ids = encode_sample(sample, vocab, tag_vocab)\n",
        "            l = len(ids)\n",
        "\n",
        "            # pad sequence\n",
        "            ids += [vocab['<pad>']] * (padded_len - l)\n",
        "            tag_ids += [tag_vocab['<pad>']] * (padded_len - l)\n",
        "\n",
        "            self.sentences.append(torch.LongTensor(ids))\n",
        "            self.tags.append(torch.LongTensor(tag_ids))\n",
        "\n",
        "    def __len__(self):\n",
        "        return len(self.sentences)\n",
        "\n",
        "    def __getitem__(self, index):\n",
        "        return self.sentences[index], self.tags[index]\n",
        "\n",
        "\n",
        "train_dataset = POS_Dataset_Encoded(train_dataset, vocab, tag_vocab)\n",
        "test_dataset = POS_Dataset_Encoded(test_dataset, vocab, tag_vocab)\n",
        "batchSize = 64\n",
        "train_loader = DataLoader(train_dataset, batch_size=batchSize, shuffle=True)\n",
        "test_loader = DataLoader(test_dataset, batch_size=batchSize)\n",
        "\n",
        "\n",
        "def get_accuracy(prediction, label):\n",
        "  batch_size, _ = prediction.shape\n",
        "  predicted_classes = prediction.argmax(dim=-1)\n",
        "  correct_predictions = predicted_classes.eq(label).sum()\n",
        "  accuracy = correct_predictions / batch_size\n",
        "  return accuracy"
      ],
      "metadata": {
        "id": "bC6ft8ImCs-9"
      },
      "execution_count": 24,
      "outputs": []
    },
    {
      "cell_type": "code",
      "source": [
        "class TransformerModel(nn.Module):\n",
        "\n",
        "    def __init__(self, ntoken: int, d_model: int, nhead: int, d_hid: int,\n",
        "                 nlayers: int, dropout: float = 0.5):\n",
        "        super().__init__()\n",
        "        self.model_type = 'Transformer'\n",
        "        self.pos_encoder = PositionalEncoding(d_model, dropout)\n",
        "        encoder_layers = TransformerEncoderLayer(d_model, nhead, d_hid, dropout)\n",
        "        self.transformer_encoder = TransformerEncoder(encoder_layers, nlayers)\n",
        "        self.embedding = nn.Embedding(ntoken, d_model)\n",
        "        self.d_model = d_model\n",
        "        self.linear = nn.Linear(d_model, ntoken)\n",
        "\n",
        "        self.init_weights()\n",
        "\n",
        "    def init_weights(self) -> None:\n",
        "        initrange = 0.1\n",
        "        self.embedding.weight.data.uniform_(-initrange, initrange)\n",
        "        self.linear.bias.data.zero_()\n",
        "        self.linear.weight.data.uniform_(-initrange, initrange)\n",
        "\n",
        "    def forward(self, src: Tensor, src_mask: Tensor = None) -> Tensor:\n",
        "        \"\"\"\n",
        "        Arguments:\n",
        "            src: Tensor, shape ``[seq_len, batch_size]``\n",
        "            src_mask: Tensor, shape ``[seq_len, seq_len]``\n",
        "\n",
        "        Returns:\n",
        "            output Tensor of shape ``[seq_len, batch_size, ntoken]``\n",
        "        \"\"\"\n",
        "        src = self.embedding(src) * math.sqrt(self.d_model)\n",
        "        src = self.pos_encoder(src)\n",
        "        if src_mask is None:\n",
        "            \"\"\"Generate a square causal mask for the sequence. The masked positions are filled with float('-inf').\n",
        "            Unmasked positions are filled with float(0.0).\n",
        "            \"\"\"\n",
        "            src_mask = nn.Transformer.generate_square_subsequent_mask(len(src)).to(device)\n",
        "        output = self.transformer_encoder(src, src_mask)\n",
        "        output = self.linear(output)\n",
        "        return output"
      ],
      "metadata": {
        "id": "YeyMuZetDWw0"
      },
      "execution_count": 25,
      "outputs": []
    },
    {
      "cell_type": "code",
      "source": [
        "class PositionalEncoding(nn.Module):\n",
        "\n",
        "    def __init__(self, d_model: int, dropout: float = 0.1, max_len: int = 5000):\n",
        "        super().__init__()\n",
        "        self.dropout = nn.Dropout(p=dropout)\n",
        "\n",
        "        position = torch.arange(max_len).unsqueeze(1)\n",
        "        div_term = torch.exp(torch.arange(0, d_model, 2) * (-math.log(10000.0) / d_model))\n",
        "        pe = torch.zeros(max_len, 1, d_model)\n",
        "        pe[:, 0, 0::2] = torch.sin(position * div_term)\n",
        "        pe[:, 0, 1::2] = torch.cos(position * div_term)\n",
        "        self.register_buffer('pe', pe)\n",
        "\n",
        "\n",
        "    def forward(self, x: Tensor) -> Tensor:\n",
        "        \"\"\"\n",
        "        Arguments:\n",
        "            x: Tensor, shape ``[seq_len, batch_size, embedding_dim]``\n",
        "        \"\"\"\n",
        "\n",
        "        x = x + self.pe[:x.size(0)]\n",
        "        return self.dropout(x)"
      ],
      "metadata": {
        "id": "JAkWf0uhDYl-"
      },
      "execution_count": 26,
      "outputs": []
    },
    {
      "cell_type": "code",
      "source": [
        "ntokens = len(vocab)  # size of vocabulary\n",
        "emsize = 200  # embedding dimension\n",
        "d_hid = 200  # dimension of the feedforward network model in ``nn.TransformerEncoder``\n",
        "nlayers = 2  # number of ``nn.TransformerEncoderLayer`` in ``nn.TransformerEncoder``\n",
        "nhead = 2  # number of heads in ``nn.MultiheadAttention``\n",
        "dropout = 0.2  # dropout probability\n",
        "\n",
        "device = torch.device(\"cuda\" if torch.cuda.is_available() else \"cpu\")\n",
        "lr = 5e-4\n",
        "model = TransformerModel(ntokens, emsize, nhead, d_hid, nlayers, dropout).to(device)\n",
        "optimizer = optim.Adam(model.parameters(), lr=lr)\n",
        "criterion = nn.CrossEntropyLoss()\n"
      ],
      "metadata": {
        "colab": {
          "base_uri": "https://localhost:8080/"
        },
        "id": "CgOj3kqRDdaq",
        "outputId": "8de4342d-009c-4047-956c-a22bd49810cc"
      },
      "execution_count": 27,
      "outputs": [
        {
          "output_type": "stream",
          "name": "stderr",
          "text": [
            "/usr/local/lib/python3.10/dist-packages/torch/nn/modules/transformer.py:306: UserWarning: enable_nested_tensor is True, but self.use_nested_tensor is False because encoder_layer.self_attn.batch_first was not True(use batch_first for better inference performance)\n",
            "  warnings.warn(f\"enable_nested_tensor is True, but self.use_nested_tensor is False because {why_not_sparsity_fast_path}\")\n"
          ]
        }
      ]
    },
    {
      "cell_type": "code",
      "source": [
        "n_epochs = 1\n",
        "for ep in range(n_epochs):\n",
        "  model.train()\n",
        "  epoch_losses = []\n",
        "  epoch_accs = []\n",
        "  for batch in tqdm.tqdm(train_loader, desc=\"training...\"):\n",
        "    optimizer.zero_grad()\n",
        "    ids = batch[0].to(device)\n",
        "    label = batch[1].to(device)\n",
        "\n",
        "    prediction = model(ids)\n",
        "\n",
        "    loss = criterion(prediction.view(-1, prediction.shape[2]), label.view(-1))\n",
        "    accuracy = get_accuracy(prediction.view(-1, prediction.shape[2]), label.view(-1))\n",
        "\n",
        "    loss.backward()\n",
        "    optimizer.step()\n",
        "\n",
        "    epoch_losses.append(loss.item())\n",
        "    epoch_accs.append(accuracy.item())\n",
        "\n",
        "  test_losses = []\n",
        "  test_accs = []\n",
        "  with torch.no_grad():\n",
        "    model.eval()\n",
        "    for batch in tqdm.tqdm(test_loader, desc='evaluating...'):\n",
        "      ids = batch[0].to(device)\n",
        "      label = batch[1].to(device)\n",
        "\n",
        "      prediction = model(ids)\n",
        "      loss = criterion(prediction.view(-1, prediction.shape[2]), label.view(-1))\n",
        "      accuracy = get_accuracy(prediction.view(-1, prediction.shape[2]), label.view(-1))\n",
        "\n",
        "\n",
        "      test_losses.append(loss.item())\n",
        "      test_accs.append(accuracy.item())\n",
        "\n",
        "  print(f'[Epoch {ep+1}]\\nTrain:\\n\\tLoss: {np.mean(epoch_losses)}, Acc: {np.mean(epoch_accs)}\\nTest:\\n\\tLoss: {np.mean(test_losses)}, Acc: {np.mean(test_accs)}')"
      ],
      "metadata": {
        "colab": {
          "base_uri": "https://localhost:8080/"
        },
        "id": "b3F4C3-hDgS_",
        "outputId": "40f68588-cdee-42b7-c78f-943c3dba0b48"
      },
      "execution_count": 28,
      "outputs": [
        {
          "output_type": "stream",
          "name": "stderr",
          "text": [
            "training...: 100%|██████████| 140/140 [00:05<00:00, 25.44it/s]\n",
            "evaluating...: 100%|██████████| 32/32 [00:00<00:00, 66.77it/s]"
          ]
        },
        {
          "output_type": "stream",
          "name": "stdout",
          "text": [
            "[Epoch 1]\n",
            "Train:\n",
            "\tLoss: 0.9660310673926558, Acc: 0.837715214131666\n",
            "Test:\n",
            "\tLoss: 0.19516967562958598, Acc: 0.9471842590719461\n"
          ]
        },
        {
          "output_type": "stream",
          "name": "stderr",
          "text": [
            "\n"
          ]
        }
      ]
    },
    {
      "cell_type": "code",
      "source": [],
      "metadata": {
        "id": "zPKxOwElzefA"
      },
      "execution_count": 28,
      "outputs": []
    }
  ],
  "metadata": {
    "accelerator": "GPU",
    "colab": {
      "provenance": []
    },
    "gpuClass": "standard",
    "kernelspec": {
      "display_name": "Python 3",
      "name": "python3"
    },
    "language_info": {
      "name": "python"
    }
  },
  "nbformat": 4,
  "nbformat_minor": 0
}